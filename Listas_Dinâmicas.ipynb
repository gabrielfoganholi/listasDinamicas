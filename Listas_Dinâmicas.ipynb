{
  "nbformat": 4,
  "nbformat_minor": 0,
  "metadata": {
    "colab": {
      "provenance": [],
      "authorship_tag": "ABX9TyMBwyZXTShDypNrOxPlrxJr",
      "include_colab_link": true
    },
    "kernelspec": {
      "name": "python3",
      "display_name": "Python 3"
    },
    "language_info": {
      "name": "python"
    }
  },
  "cells": [
    {
      "cell_type": "markdown",
      "metadata": {
        "id": "view-in-github",
        "colab_type": "text"
      },
      "source": [
        "<a href=\"https://colab.research.google.com/github/gabrielfoganholi/listasDinamicas/blob/main/Listas_Din%C3%A2micas.ipynb\" target=\"_parent\"><img src=\"https://colab.research.google.com/assets/colab-badge.svg\" alt=\"Open In Colab\"/></a>"
      ]
    },
    {
      "cell_type": "code",
      "execution_count": null,
      "metadata": {
        "colab": {
          "base_uri": "https://localhost:8080/"
        },
        "id": "giJazyPN3eJL",
        "outputId": "2757a816-268f-4e3c-8113-5d63eeeedad8"
      },
      "outputs": [
        {
          "output_type": "stream",
          "name": "stdout",
          "text": [
            "Lista após inserções:\n",
            "5 10 20 \n",
            "Lista após remover do início:\n",
            "10 20 \n",
            "Lista após remover do final:\n",
            "10 \n"
          ]
        }
      ],
      "source": [
        "class Node:\n",
        "    def __init__(self, data):\n",
        "        # Inicializa um nó com os dados fornecidos\n",
        "        self.data = data  # Dado armazenado no nó\n",
        "        self.prev = None  # Ponteiro para o nó anterior\n",
        "        self.next = None  # Ponteiro para o próximo nó\n",
        "\n",
        "class DoublyLinkedList:\n",
        "    def __init__(self):\n",
        "        # Inicializa uma lista duplamente encadeada vazia\n",
        "        self.head = None  # Ponteiro para o primeiro nó (cabeça)\n",
        "        self.tail = None  # Ponteiro para o último nó (cauda)\n",
        "\n",
        "    def insert_at_beginning(self, data):\n",
        "        # Insere um novo nó no início da lista\n",
        "        new_node = Node(data)  # Cria um novo nó com os dados\n",
        "        if not self.head:  # Se a lista estiver vazia\n",
        "            self.head = self.tail = new_node  # Cabeça e cauda apontam para o novo nó\n",
        "        else:\n",
        "            new_node.next = self.head  # O próximo do novo nó aponta para a antiga cabeça\n",
        "            self.head.prev = new_node  # A antiga cabeça aponta para o novo nó\n",
        "            self.head = new_node  # Atualiza a cabeça para o novo nó\n",
        "\n",
        "    def insert_at_end(self, data):\n",
        "        # Insere um novo nó no final da lista\n",
        "        new_node = Node(data)  # Cria um novo nó com os dados\n",
        "        if not self.tail:  # Se a lista estiver vazia\n",
        "            self.head = self.tail = new_node  # Cabeça e cauda apontam para o novo nó\n",
        "        else:\n",
        "            new_node.prev = self.tail  # O anterior do novo nó aponta para a antiga cauda\n",
        "            self.tail.next = new_node  # A antiga cauda aponta para o novo nó\n",
        "            self.tail = new_node  # Atualiza a cauda para o novo nó\n",
        "\n",
        "    def remove_from_beginning(self):\n",
        "        # Remove o nó do início da lista\n",
        "        if not self.head:  # Se a lista estiver vazia\n",
        "            return None  # Retorna None\n",
        "        removed_data = self.head.data  # Armazena os dados do nó a ser removido\n",
        "        self.head = self.head.next  # Atualiza a cabeça para o próximo nó\n",
        "        if self.head:  # Se a lista não ficou vazia\n",
        "            self.head.prev = None  # O anterior da nova cabeça deve ser None\n",
        "        else:  # Se a lista ficou vazia\n",
        "            self.tail = None  # Atualiza a cauda para None\n",
        "        return removed_data  # Retorna os dados do nó removido\n",
        "\n",
        "    def remove_from_end(self):\n",
        "        # Remove o nó do final da lista\n",
        "        if not self.tail:  # Se a lista estiver vazia\n",
        "            return None  # Retorna None\n",
        "        removed_data = self.tail.data  # Armazena os dados do nó a ser removido\n",
        "        self.tail = self.tail.prev  # Atualiza a cauda para o nó anterior\n",
        "        if self.tail:  # Se a lista não ficou vazia\n",
        "            self.tail.next = None  # O próximo da nova cauda deve ser None\n",
        "        else:  # Se a lista ficou vazia\n",
        "            self.head = None  # Atualiza a cabeça para None\n",
        "        return removed_data  # Retorna os dados do nó removido\n",
        "\n",
        "    def display(self):\n",
        "        # Exibe todos os elementos da lista\n",
        "        current = self.head  # Começa a partir da cabeça\n",
        "        while current:  # Enquanto houver nós\n",
        "            print(current.data, end=' ')  # Imprime o dado do nó atual\n",
        "            current = current.next  # Move para o próximo nó\n",
        "        print()  # Quebra a linha após a exibição\n",
        "\n",
        "# Exemplo de uso\n",
        "if __name__ == \"__main__\":\n",
        "    dll = DoublyLinkedList()  # Cria uma nova lista duplamente encadeada\n",
        "    dll.insert_at_end(10)  # Insere 10 no final da lista\n",
        "    dll.insert_at_end(20)  # Insere 20 no final da lista\n",
        "    dll.insert_at_beginning(5)  # Insere 5 no início da lista\n",
        "\n",
        "    print(\"Lista após inserções:\")\n",
        "    dll.display()  # Exibe a lista após as inserções\n",
        "\n",
        "    dll.remove_from_beginning()  # Remove o primeiro elemento (5)\n",
        "    print(\"Lista após remover do início:\")\n",
        "    dll.display()  # Exibe a lista após a remoção do início\n",
        "\n",
        "    dll.remove_from_end()  # Remove o último elemento (20)\n",
        "    print(\"Lista após remover do final:\")\n",
        "    dll.display()  # Exibe a lista após a remoção do final\n"
      ]
    },
    {
      "cell_type": "code",
      "source": [
        "pip install python\n"
      ],
      "metadata": {
        "colab": {
          "base_uri": "https://localhost:8080/"
        },
        "id": "XEretp4cIR3I",
        "outputId": "a429c218-fef8-45f9-a387-07fd58ba6896"
      },
      "execution_count": null,
      "outputs": [
        {
          "output_type": "stream",
          "name": "stdout",
          "text": [
            "\u001b[31mERROR: Could not find a version that satisfies the requirement python (from versions: none)\u001b[0m\u001b[31m\n",
            "\u001b[0m\u001b[31mERROR: No matching distribution found for python\u001b[0m\u001b[31m\n",
            "\u001b[0m"
          ]
        }
      ]
    }
  ]
}